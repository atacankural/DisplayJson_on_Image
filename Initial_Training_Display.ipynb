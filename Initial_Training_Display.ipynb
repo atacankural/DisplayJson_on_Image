{
 "cells": [
  {
   "cell_type": "code",
   "execution_count": 31,
   "id": "f565c1bb",
   "metadata": {},
   "outputs": [],
   "source": [
    "import cv2\n",
    "import json\n",
    "import numpy as np\n",
    "\n"
   ]
  },
  {
   "cell_type": "code",
   "execution_count": 2,
   "id": "c868a285",
   "metadata": {},
   "outputs": [
    {
     "name": "stdout",
     "output_type": "stream",
     "text": [
      "Collecting opencv-python\n",
      "  Downloading opencv_python-4.7.0.72-cp37-abi3-win_amd64.whl (38.2 MB)\n",
      "     ---------------------------------------- 38.2/38.2 MB 7.3 MB/s eta 0:00:00\n",
      "Requirement already satisfied: numpy>=1.17.3 in c:\\users\\ataca\\anaconda3\\lib\\site-packages (from opencv-python) (1.23.5)\n",
      "Installing collected packages: opencv-python\n",
      "Successfully installed opencv-python-4.7.0.72\n"
     ]
    }
   ],
   "source": [
    "!pip install opencv-python\n"
   ]
  },
  {
   "cell_type": "code",
   "execution_count": 3,
   "id": "9a421839",
   "metadata": {},
   "outputs": [],
   "source": [
    "import cv2"
   ]
  },
  {
   "cell_type": "code",
   "execution_count": 6,
   "id": "de6da44f",
   "metadata": {},
   "outputs": [],
   "source": [
    "import json\n",
    "import numpy as np\n"
   ]
  },
  {
   "cell_type": "code",
   "execution_count": 29,
   "id": "525a2289",
   "metadata": {},
   "outputs": [],
   "source": [
    "img = cv2.imread(\"Untitled Folder/IMG_0001.jpg\")\n",
    "with open(\"Untitled Folder/IMG_0001.json\") as f:\n",
    "    data = json.load(f)\n",
    "shapes = data[\"shapes\"]\n",
    "\n",
    "\n",
    "for shape in shapes:\n",
    "        label = shape[\"label\"]\n",
    "        points = np.array(shape[\"points\"], dtype=np.int32)\n",
    "        cv2.polylines(img, [points], True, (0, 255, 0), 2)\n",
    "        cv2.putText(img, label, tuple(points[0]), cv2.FONT_HERSHEY_SIMPLEX, 0.7, (0, 0, 255), 2)        \n",
    "        \n",
    "cv2.imshow(\"Untitled Folder/IMG_0001.jpg\", img)\n",
    "cv2.waitKey(0)\n",
    "cv2.destroyAllWindows()"
   ]
  },
  {
   "cell_type": "code",
   "execution_count": 34,
   "id": "81f87a28",
   "metadata": {},
   "outputs": [],
   "source": [
    "def draw_shapes_on_image(img_path, json_path, output_path):\n",
    "    # Upload Image\n",
    "    img = cv2.imread(img_path)\n",
    "    \n",
    "    # Jupload Json\n",
    "    with open(json_path) as f:\n",
    "        data = json.load(f)\n",
    "\n",
    "    # retrieve shapes-markers\n",
    "    shapes = data[\"shapes\"]\n",
    "\n",
    "    # markers\n",
    "    for shape in shapes:\n",
    "        label = shape[\"label\"]\n",
    "        points = np.array(shape[\"points\"], dtype=np.int32)\n",
    "        cv2.polylines(img, [points], True, (0, 255, 0), 2)\n",
    "        cv2.putText(img, label, tuple(points[0]), cv2.FONT_HERSHEY_SIMPLEX, 0.7, (0, 0, 255), 2)\n",
    "\n",
    "    # Save the image\n",
    "    cv2.imwrite(output_path, img)\n"
   ]
  },
  {
   "cell_type": "code",
   "execution_count": 28,
   "id": "7c25ee5e",
   "metadata": {},
   "outputs": [],
   "source": [
    "draw_shapes_on_image(\"Untitled Folder/IMG_0001.jpg\", \"Untitled Folder/IMG_0001.json\", \"Untitled Folder/output.jpg\")"
   ]
  },
  {
   "cell_type": "code",
   "execution_count": 51,
   "id": "2f23e513",
   "metadata": {},
   "outputs": [],
   "source": [
    "import os"
   ]
  },
  {
   "cell_type": "code",
   "execution_count": 58,
   "id": "591c0bab",
   "metadata": {},
   "outputs": [],
   "source": [
    "for i in range(1,9999):\n",
    "    file_name = \"Images/IMG_{:04d}.jpg\".format(i)\n",
    "    if os.path.exists(file_name):\n",
    "        draw_shapes_on_image(\"Images/IMG_{:04d}.jpg\".format(i), \"Images/IMG_{:04d}.json\".format(i), \"outputImages/IMG_{:04d}.jpg\".format(i))\n",
    "    "
   ]
  },
  {
   "cell_type": "code",
   "execution_count": null,
   "id": "c9de8575",
   "metadata": {},
   "outputs": [],
   "source": []
  }
 ],
 "metadata": {
  "kernelspec": {
   "display_name": "Python 3 (ipykernel)",
   "language": "python",
   "name": "python3"
  },
  "language_info": {
   "codemirror_mode": {
    "name": "ipython",
    "version": 3
   },
   "file_extension": ".py",
   "mimetype": "text/x-python",
   "name": "python",
   "nbconvert_exporter": "python",
   "pygments_lexer": "ipython3",
   "version": "3.10.9"
  }
 },
 "nbformat": 4,
 "nbformat_minor": 5
}
